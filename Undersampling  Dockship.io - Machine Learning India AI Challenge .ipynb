{
 "cells": [
  {
   "cell_type": "code",
   "execution_count": 1,
   "metadata": {},
   "outputs": [],
   "source": [
    "import pandas as pd\n",
    "import numpy as np\n",
    "import matplotlib.pyplot as plt\n",
    "import seaborn as sns"
   ]
  },
  {
   "cell_type": "code",
   "execution_count": 2,
   "metadata": {},
   "outputs": [],
   "source": [
    "train = pd.read_csv(\"TRAIN.csv\")\n",
    "test = pd.read_csv(\"TEST.csv\")"
   ]
  },
  {
   "cell_type": "code",
   "execution_count": 3,
   "metadata": {},
   "outputs": [
    {
     "data": {
      "text/html": [
       "<div>\n",
       "<style scoped>\n",
       "    .dataframe tbody tr th:only-of-type {\n",
       "        vertical-align: middle;\n",
       "    }\n",
       "\n",
       "    .dataframe tbody tr th {\n",
       "        vertical-align: top;\n",
       "    }\n",
       "\n",
       "    .dataframe thead th {\n",
       "        text-align: right;\n",
       "    }\n",
       "</style>\n",
       "<table border=\"1\" class=\"dataframe\">\n",
       "  <thead>\n",
       "    <tr style=\"text-align: right;\">\n",
       "      <th></th>\n",
       "      <th>Index</th>\n",
       "      <th>V1</th>\n",
       "      <th>V2</th>\n",
       "      <th>V3</th>\n",
       "      <th>V4</th>\n",
       "      <th>V5</th>\n",
       "      <th>V6</th>\n",
       "      <th>V7</th>\n",
       "      <th>V8</th>\n",
       "      <th>V9</th>\n",
       "      <th>...</th>\n",
       "      <th>V21</th>\n",
       "      <th>V22</th>\n",
       "      <th>V23</th>\n",
       "      <th>V24</th>\n",
       "      <th>V25</th>\n",
       "      <th>V26</th>\n",
       "      <th>V27</th>\n",
       "      <th>V28</th>\n",
       "      <th>Amount</th>\n",
       "      <th>Class</th>\n",
       "    </tr>\n",
       "  </thead>\n",
       "  <tbody>\n",
       "    <tr>\n",
       "      <th>0</th>\n",
       "      <td>0</td>\n",
       "      <td>2.245295</td>\n",
       "      <td>-1.160960</td>\n",
       "      <td>-1.966682</td>\n",
       "      <td>-1.430190</td>\n",
       "      <td>-0.607246</td>\n",
       "      <td>-1.508696</td>\n",
       "      <td>-0.074415</td>\n",
       "      <td>-0.655096</td>\n",
       "      <td>-1.970141</td>\n",
       "      <td>...</td>\n",
       "      <td>0.010490</td>\n",
       "      <td>0.521714</td>\n",
       "      <td>-0.064971</td>\n",
       "      <td>0.048849</td>\n",
       "      <td>0.383290</td>\n",
       "      <td>0.103970</td>\n",
       "      <td>-0.047350</td>\n",
       "      <td>-0.064800</td>\n",
       "      <td>74.75</td>\n",
       "      <td>0</td>\n",
       "    </tr>\n",
       "    <tr>\n",
       "      <th>1</th>\n",
       "      <td>1</td>\n",
       "      <td>1.278609</td>\n",
       "      <td>0.102574</td>\n",
       "      <td>0.512079</td>\n",
       "      <td>0.003930</td>\n",
       "      <td>-0.723474</td>\n",
       "      <td>-1.334105</td>\n",
       "      <td>0.029958</td>\n",
       "      <td>-0.296595</td>\n",
       "      <td>0.128119</td>\n",
       "      <td>...</td>\n",
       "      <td>-0.081470</td>\n",
       "      <td>-0.182506</td>\n",
       "      <td>0.078986</td>\n",
       "      <td>0.789993</td>\n",
       "      <td>0.219794</td>\n",
       "      <td>0.938359</td>\n",
       "      <td>-0.078720</td>\n",
       "      <td>0.008119</td>\n",
       "      <td>1.38</td>\n",
       "      <td>0</td>\n",
       "    </tr>\n",
       "    <tr>\n",
       "      <th>2</th>\n",
       "      <td>2</td>\n",
       "      <td>1.466457</td>\n",
       "      <td>0.026088</td>\n",
       "      <td>-0.499298</td>\n",
       "      <td>-0.674372</td>\n",
       "      <td>-0.144883</td>\n",
       "      <td>-1.178075</td>\n",
       "      <td>0.058089</td>\n",
       "      <td>-0.420145</td>\n",
       "      <td>-1.359651</td>\n",
       "      <td>...</td>\n",
       "      <td>-0.234087</td>\n",
       "      <td>-0.710542</td>\n",
       "      <td>-0.001242</td>\n",
       "      <td>-0.174713</td>\n",
       "      <td>0.533719</td>\n",
       "      <td>-0.454779</td>\n",
       "      <td>0.001524</td>\n",
       "      <td>0.030935</td>\n",
       "      <td>10.95</td>\n",
       "      <td>0</td>\n",
       "    </tr>\n",
       "    <tr>\n",
       "      <th>3</th>\n",
       "      <td>3</td>\n",
       "      <td>-0.922137</td>\n",
       "      <td>-0.371579</td>\n",
       "      <td>2.132018</td>\n",
       "      <td>-0.796997</td>\n",
       "      <td>0.324175</td>\n",
       "      <td>-1.162006</td>\n",
       "      <td>0.277208</td>\n",
       "      <td>-0.249586</td>\n",
       "      <td>-0.775648</td>\n",
       "      <td>...</td>\n",
       "      <td>-0.302654</td>\n",
       "      <td>-0.246899</td>\n",
       "      <td>-0.045745</td>\n",
       "      <td>0.677110</td>\n",
       "      <td>0.016109</td>\n",
       "      <td>-0.734220</td>\n",
       "      <td>-0.034480</td>\n",
       "      <td>-0.064786</td>\n",
       "      <td>8.04</td>\n",
       "      <td>0</td>\n",
       "    </tr>\n",
       "    <tr>\n",
       "      <th>4</th>\n",
       "      <td>4</td>\n",
       "      <td>-1.166525</td>\n",
       "      <td>0.255439</td>\n",
       "      <td>2.108464</td>\n",
       "      <td>0.135019</td>\n",
       "      <td>-0.072979</td>\n",
       "      <td>0.910821</td>\n",
       "      <td>0.755918</td>\n",
       "      <td>0.355528</td>\n",
       "      <td>-0.422820</td>\n",
       "      <td>...</td>\n",
       "      <td>0.136470</td>\n",
       "      <td>0.017496</td>\n",
       "      <td>0.121017</td>\n",
       "      <td>0.636266</td>\n",
       "      <td>0.492943</td>\n",
       "      <td>-0.750242</td>\n",
       "      <td>0.029124</td>\n",
       "      <td>0.091303</td>\n",
       "      <td>175.00</td>\n",
       "      <td>0</td>\n",
       "    </tr>\n",
       "  </tbody>\n",
       "</table>\n",
       "<p>5 rows × 31 columns</p>\n",
       "</div>"
      ],
      "text/plain": [
       "   Index        V1        V2        V3        V4        V5        V6  \\\n",
       "0      0  2.245295 -1.160960 -1.966682 -1.430190 -0.607246 -1.508696   \n",
       "1      1  1.278609  0.102574  0.512079  0.003930 -0.723474 -1.334105   \n",
       "2      2  1.466457  0.026088 -0.499298 -0.674372 -0.144883 -1.178075   \n",
       "3      3 -0.922137 -0.371579  2.132018 -0.796997  0.324175 -1.162006   \n",
       "4      4 -1.166525  0.255439  2.108464  0.135019 -0.072979  0.910821   \n",
       "\n",
       "         V7        V8        V9  ...       V21       V22       V23       V24  \\\n",
       "0 -0.074415 -0.655096 -1.970141  ...  0.010490  0.521714 -0.064971  0.048849   \n",
       "1  0.029958 -0.296595  0.128119  ... -0.081470 -0.182506  0.078986  0.789993   \n",
       "2  0.058089 -0.420145 -1.359651  ... -0.234087 -0.710542 -0.001242 -0.174713   \n",
       "3  0.277208 -0.249586 -0.775648  ... -0.302654 -0.246899 -0.045745  0.677110   \n",
       "4  0.755918  0.355528 -0.422820  ...  0.136470  0.017496  0.121017  0.636266   \n",
       "\n",
       "        V25       V26       V27       V28  Amount  Class  \n",
       "0  0.383290  0.103970 -0.047350 -0.064800   74.75      0  \n",
       "1  0.219794  0.938359 -0.078720  0.008119    1.38      0  \n",
       "2  0.533719 -0.454779  0.001524  0.030935   10.95      0  \n",
       "3  0.016109 -0.734220 -0.034480 -0.064786    8.04      0  \n",
       "4  0.492943 -0.750242  0.029124  0.091303  175.00      0  \n",
       "\n",
       "[5 rows x 31 columns]"
      ]
     },
     "execution_count": 3,
     "metadata": {},
     "output_type": "execute_result"
    }
   ],
   "source": [
    "train.head()"
   ]
  },
  {
   "cell_type": "code",
   "execution_count": 4,
   "metadata": {},
   "outputs": [
    {
     "data": {
      "text/plain": [
       "(284455, 31)"
      ]
     },
     "execution_count": 4,
     "metadata": {},
     "output_type": "execute_result"
    }
   ],
   "source": [
    "train.shape"
   ]
  },
  {
   "cell_type": "code",
   "execution_count": 5,
   "metadata": {
    "scrolled": true
   },
   "outputs": [
    {
     "data": {
      "text/plain": [
       "Index     0\n",
       "V1        0\n",
       "V2        0\n",
       "V3        0\n",
       "V4        0\n",
       "V5        0\n",
       "V6        0\n",
       "V7        0\n",
       "V8        0\n",
       "V9        0\n",
       "V10       0\n",
       "V11       0\n",
       "V12       0\n",
       "V13       0\n",
       "V14       0\n",
       "V15       0\n",
       "V16       0\n",
       "V17       0\n",
       "V18       0\n",
       "V19       0\n",
       "V20       0\n",
       "V21       0\n",
       "V22       0\n",
       "V23       0\n",
       "V24       0\n",
       "V25       0\n",
       "V26       0\n",
       "V27       0\n",
       "V28       0\n",
       "Amount    0\n",
       "Class     0\n",
       "dtype: int64"
      ]
     },
     "execution_count": 5,
     "metadata": {},
     "output_type": "execute_result"
    }
   ],
   "source": [
    "train.isna().sum()"
   ]
  },
  {
   "cell_type": "code",
   "execution_count": 6,
   "metadata": {},
   "outputs": [
    {
     "data": {
      "text/plain": [
       "0    284015\n",
       "1       440\n",
       "Name: Class, dtype: int64"
      ]
     },
     "execution_count": 6,
     "metadata": {},
     "output_type": "execute_result"
    }
   ],
   "source": [
    "train['Class'].value_counts()"
   ]
  },
  {
   "cell_type": "code",
   "execution_count": 7,
   "metadata": {},
   "outputs": [],
   "source": [
    "fraud = train[train['Class']==1]\n",
    "not_fraud = train[train['Class']==0]"
   ]
  },
  {
   "cell_type": "code",
   "execution_count": 8,
   "metadata": {},
   "outputs": [
    {
     "data": {
      "image/png": "[encoded data removed]",
      "text/plain": [
       "<Figure size 1440x1440 with 36 Axes>"
      ]
     },
     "metadata": {
      "needs_background": "light"
     },
     "output_type": "display_data"
    }
   ],
   "source": [
    "train.hist(figsize=(20,20));"
   ]
  },
  {
   "cell_type": "code",
   "execution_count": 9,
   "metadata": {},
   "outputs": [
    {
     "data": {
      "text/html": [
       "<div>\n",
       "<style scoped>\n",
       "    .dataframe tbody tr th:only-of-type {\n",
       "        vertical-align: middle;\n",
       "    }\n",
       "\n",
       "    .dataframe tbody tr th {\n",
       "        vertical-align: top;\n",
       "    }\n",
       "\n",
       "    .dataframe thead th {\n",
       "        text-align: right;\n",
       "    }\n",
       "</style>\n",
       "<table border=\"1\" class=\"dataframe\">\n",
       "  <thead>\n",
       "    <tr style=\"text-align: right;\">\n",
       "      <th></th>\n",
       "      <th>Index</th>\n",
       "      <th>V1</th>\n",
       "      <th>V2</th>\n",
       "      <th>V3</th>\n",
       "      <th>V4</th>\n",
       "      <th>V5</th>\n",
       "      <th>V6</th>\n",
       "      <th>V7</th>\n",
       "      <th>V8</th>\n",
       "      <th>V9</th>\n",
       "      <th>...</th>\n",
       "      <th>V21</th>\n",
       "      <th>V22</th>\n",
       "      <th>V23</th>\n",
       "      <th>V24</th>\n",
       "      <th>V25</th>\n",
       "      <th>V26</th>\n",
       "      <th>V27</th>\n",
       "      <th>V28</th>\n",
       "      <th>Amount</th>\n",
       "      <th>Class</th>\n",
       "    </tr>\n",
       "  </thead>\n",
       "  <tbody>\n",
       "    <tr>\n",
       "      <th>446</th>\n",
       "      <td>446</td>\n",
       "      <td>-3.215382</td>\n",
       "      <td>-0.364223</td>\n",
       "      <td>-1.261883</td>\n",
       "      <td>3.794949</td>\n",
       "      <td>0.711206</td>\n",
       "      <td>-1.316476</td>\n",
       "      <td>-5.165141</td>\n",
       "      <td>0.625278</td>\n",
       "      <td>-1.582301</td>\n",
       "      <td>...</td>\n",
       "      <td>0.401341</td>\n",
       "      <td>0.152191</td>\n",
       "      <td>-0.934675</td>\n",
       "      <td>-0.256148</td>\n",
       "      <td>-0.469403</td>\n",
       "      <td>-0.282496</td>\n",
       "      <td>0.866077</td>\n",
       "      <td>-0.433466</td>\n",
       "      <td>5.91</td>\n",
       "      <td>1</td>\n",
       "    </tr>\n",
       "    <tr>\n",
       "      <th>561</th>\n",
       "      <td>561</td>\n",
       "      <td>-3.843009</td>\n",
       "      <td>3.375110</td>\n",
       "      <td>-5.492893</td>\n",
       "      <td>6.136378</td>\n",
       "      <td>2.797195</td>\n",
       "      <td>-2.646162</td>\n",
       "      <td>-1.668931</td>\n",
       "      <td>-2.617552</td>\n",
       "      <td>-3.945843</td>\n",
       "      <td>...</td>\n",
       "      <td>-1.277812</td>\n",
       "      <td>0.719652</td>\n",
       "      <td>0.451125</td>\n",
       "      <td>-0.258094</td>\n",
       "      <td>0.656129</td>\n",
       "      <td>0.556676</td>\n",
       "      <td>0.739383</td>\n",
       "      <td>-0.203050</td>\n",
       "      <td>1.00</td>\n",
       "      <td>1</td>\n",
       "    </tr>\n",
       "    <tr>\n",
       "      <th>1304</th>\n",
       "      <td>1304</td>\n",
       "      <td>-1.410852</td>\n",
       "      <td>2.268271</td>\n",
       "      <td>-2.297554</td>\n",
       "      <td>1.871331</td>\n",
       "      <td>0.248957</td>\n",
       "      <td>-1.208799</td>\n",
       "      <td>-1.358648</td>\n",
       "      <td>1.102916</td>\n",
       "      <td>-1.317364</td>\n",
       "      <td>...</td>\n",
       "      <td>0.155381</td>\n",
       "      <td>-0.614880</td>\n",
       "      <td>-0.196126</td>\n",
       "      <td>-0.464376</td>\n",
       "      <td>0.118473</td>\n",
       "      <td>-0.484537</td>\n",
       "      <td>0.373596</td>\n",
       "      <td>0.187657</td>\n",
       "      <td>1.00</td>\n",
       "      <td>1</td>\n",
       "    </tr>\n",
       "    <tr>\n",
       "      <th>3149</th>\n",
       "      <td>3149</td>\n",
       "      <td>-3.951209</td>\n",
       "      <td>2.881805</td>\n",
       "      <td>-6.421490</td>\n",
       "      <td>2.434181</td>\n",
       "      <td>-1.327325</td>\n",
       "      <td>-2.122106</td>\n",
       "      <td>-3.227533</td>\n",
       "      <td>-0.685560</td>\n",
       "      <td>0.775985</td>\n",
       "      <td>...</td>\n",
       "      <td>1.410479</td>\n",
       "      <td>0.279403</td>\n",
       "      <td>0.570821</td>\n",
       "      <td>0.656271</td>\n",
       "      <td>-0.298601</td>\n",
       "      <td>-0.407571</td>\n",
       "      <td>-1.378703</td>\n",
       "      <td>1.379130</td>\n",
       "      <td>52.69</td>\n",
       "      <td>1</td>\n",
       "    </tr>\n",
       "    <tr>\n",
       "      <th>4041</th>\n",
       "      <td>4041</td>\n",
       "      <td>-1.125092</td>\n",
       "      <td>3.682876</td>\n",
       "      <td>-6.556168</td>\n",
       "      <td>4.016731</td>\n",
       "      <td>-0.425571</td>\n",
       "      <td>-2.031210</td>\n",
       "      <td>-2.650137</td>\n",
       "      <td>1.131249</td>\n",
       "      <td>-2.946890</td>\n",
       "      <td>...</td>\n",
       "      <td>1.185580</td>\n",
       "      <td>1.348156</td>\n",
       "      <td>-0.053686</td>\n",
       "      <td>0.284122</td>\n",
       "      <td>-1.174469</td>\n",
       "      <td>-0.087832</td>\n",
       "      <td>0.718790</td>\n",
       "      <td>0.676216</td>\n",
       "      <td>0.76</td>\n",
       "      <td>1</td>\n",
       "    </tr>\n",
       "  </tbody>\n",
       "</table>\n",
       "<p>5 rows × 31 columns</p>\n",
       "</div>"
      ],
      "text/plain": [
       "      Index        V1        V2        V3        V4        V5        V6  \\\n",
       "446     446 -3.215382 -0.364223 -1.261883  3.794949  0.711206 -1.316476   \n",
       "561     561 -3.843009  3.375110 -5.492893  6.136378  2.797195 -2.646162   \n",
       "1304   1304 -1.410852  2.268271 -2.297554  1.871331  0.248957 -1.208799   \n",
       "3149   3149 -3.951209  2.881805 -6.421490  2.434181 -1.327325 -2.122106   \n",
       "4041   4041 -1.125092  3.682876 -6.556168  4.016731 -0.425571 -2.031210   \n",
       "\n",
       "            V7        V8        V9  ...       V21       V22       V23  \\\n",
       "446  -5.165141  0.625278 -1.582301  ...  0.401341  0.152191 -0.934675   \n",
       "561  -1.668931 -2.617552 -3.945843  ... -1.277812  0.719652  0.451125   \n",
       "1304 -1.358648  1.102916 -1.317364  ...  0.155381 -0.614880 -0.196126   \n",
       "3149 -3.227533 -0.685560  0.775985  ...  1.410479  0.279403  0.570821   \n",
       "4041 -2.650137  1.131249 -2.946890  ...  1.185580  1.348156 -0.053686   \n",
       "\n",
       "           V24       V25       V26       V27       V28  Amount  Class  \n",
       "446  -0.256148 -0.469403 -0.282496  0.866077 -0.433466    5.91      1  \n",
       "561  -0.258094  0.656129  0.556676  0.739383 -0.203050    1.00      1  \n",
       "1304 -0.464376  0.118473 -0.484537  0.373596  0.187657    1.00      1  \n",
       "3149  0.656271 -0.298601 -0.407571 -1.378703  1.379130   52.69      1  \n",
       "4041  0.284122 -1.174469 -0.087832  0.718790  0.676216    0.76      1  \n",
       "\n",
       "[5 rows x 31 columns]"
      ]
     },
     "execution_count": 9,
     "metadata": {},
     "output_type": "execute_result"
    }
   ],
   "source": [
    "fraud.head()"
   ]
  },
  {
   "cell_type": "code",
   "execution_count": 10,
   "metadata": {},
   "outputs": [
    {
     "data": {
      "text/plain": [
       "count     440.000000\n",
       "mean      118.423773\n",
       "std       245.493158\n",
       "min         0.000000\n",
       "25%         1.000000\n",
       "50%         9.170000\n",
       "75%       106.130000\n",
       "max      2125.870000\n",
       "Name: Amount, dtype: float64"
      ]
     },
     "execution_count": 10,
     "metadata": {},
     "output_type": "execute_result"
    }
   ],
   "source": [
    "fraud[\"Amount\"].describe()"
   ]
  },
  {
   "cell_type": "code",
   "execution_count": 11,
   "metadata": {},
   "outputs": [
    {
     "data": {
      "text/plain": [
       "count    284015.000000\n",
       "mean         88.313070\n",
       "std         250.182582\n",
       "min           0.000000\n",
       "25%           5.650000\n",
       "50%          22.000000\n",
       "75%          77.050000\n",
       "max       25691.160000\n",
       "Name: Amount, dtype: float64"
      ]
     },
     "execution_count": 11,
     "metadata": {},
     "output_type": "execute_result"
    }
   ],
   "source": [
    "not_fraud[\"Amount\"].describe()"
   ]
  },
  {
   "cell_type": "code",
   "execution_count": 12,
   "metadata": {},
   "outputs": [
    {
     "data": {
      "text/plain": [
       "<matplotlib.axes._subplots.AxesSubplot at 0x243440b34c8>"
      ]
     },
     "execution_count": 12,
     "metadata": {},
     "output_type": "execute_result"
    },
    {
     "data": {
      "image/png": "[encoded data removed]",
      "text/plain": [
       "<Figure size 432x288 with 1 Axes>"
      ]
     },
     "metadata": {
      "needs_background": "light"
     },
     "output_type": "display_data"
    }
   ],
   "source": [
    "sns.boxplot(not_fraud[\"Amount\"])"
   ]
  },
  {
   "cell_type": "code",
   "execution_count": 13,
   "metadata": {},
   "outputs": [
    {
     "data": {
      "text/plain": [
       "<matplotlib.axes._subplots.AxesSubplot at 0x2434402cd88>"
      ]
     },
     "execution_count": 13,
     "metadata": {},
     "output_type": "execute_result"
    },
    {
     "data": {
      "image/png": "[encoded data removed]",
      "text/plain": [
       "<Figure size 432x288 with 1 Axes>"
      ]
     },
     "metadata": {
      "needs_background": "light"
     },
     "output_type": "display_data"
    }
   ],
   "source": [
    "sns.boxplot(fraud[\"Amount\"])"
   ]
  },
  {
   "cell_type": "code",
   "execution_count": 14,
   "metadata": {},
   "outputs": [],
   "source": [
    "from sklearn.preprocessing import RobustScaler\n",
    "scaler=RobustScaler()"
   ]
  },
  {
   "cell_type": "code",
   "execution_count": 15,
   "metadata": {},
   "outputs": [
    {
     "data": {
      "text/plain": [
       "Index(['V1', 'V2', 'V3', 'V4', 'V5', 'V6', 'V7', 'V8', 'V9', 'V10', 'V11',\n",
       "       'V12', 'V13', 'V14', 'V15', 'V16', 'V17', 'V18', 'V19', 'V20', 'V21',\n",
       "       'V22', 'V23', 'V24', 'V25', 'V26', 'V27', 'V28'],\n",
       "      dtype='object')"
      ]
     },
     "execution_count": 15,
     "metadata": {},
     "output_type": "execute_result"
    }
   ],
   "source": [
    "train.columns[1:29]"
   ]
  },
  {
   "cell_type": "code",
   "execution_count": 16,
   "metadata": {},
   "outputs": [],
   "source": [
    "variables = train.columns[1:29]"
   ]
  },
  {
   "cell_type": "code",
   "execution_count": 17,
   "metadata": {},
   "outputs": [],
   "source": [
    "train[variables]=scaler.fit_transform(train[variables].values)"
   ]
  },
  {
   "cell_type": "code",
   "execution_count": 18,
   "metadata": {},
   "outputs": [
    {
     "data": {
      "text/html": [
       "<div>\n",
       "<style scoped>\n",
       "    .dataframe tbody tr th:only-of-type {\n",
       "        vertical-align: middle;\n",
       "    }\n",
       "\n",
       "    .dataframe tbody tr th {\n",
       "        vertical-align: top;\n",
       "    }\n",
       "\n",
       "    .dataframe thead th {\n",
       "        text-align: right;\n",
       "    }\n",
       "</style>\n",
       "<table border=\"1\" class=\"dataframe\">\n",
       "  <thead>\n",
       "    <tr style=\"text-align: right;\">\n",
       "      <th></th>\n",
       "      <th>Index</th>\n",
       "      <th>V1</th>\n",
       "      <th>V2</th>\n",
       "      <th>V3</th>\n",
       "      <th>V4</th>\n",
       "      <th>V5</th>\n",
       "      <th>V6</th>\n",
       "      <th>V7</th>\n",
       "      <th>V8</th>\n",
       "      <th>V9</th>\n",
       "      <th>...</th>\n",
       "      <th>V21</th>\n",
       "      <th>V22</th>\n",
       "      <th>V23</th>\n",
       "      <th>V24</th>\n",
       "      <th>V25</th>\n",
       "      <th>V26</th>\n",
       "      <th>V27</th>\n",
       "      <th>V28</th>\n",
       "      <th>Amount</th>\n",
       "      <th>Class</th>\n",
       "    </tr>\n",
       "  </thead>\n",
       "  <tbody>\n",
       "    <tr>\n",
       "      <th>0</th>\n",
       "      <td>0</td>\n",
       "      <td>0.996044</td>\n",
       "      <td>-0.874539</td>\n",
       "      <td>-1.119741</td>\n",
       "      <td>-0.885963</td>\n",
       "      <td>-0.424291</td>\n",
       "      <td>-1.057981</td>\n",
       "      <td>-0.102001</td>\n",
       "      <td>-1.264210</td>\n",
       "      <td>-1.547528</td>\n",
       "      <td>...</td>\n",
       "      <td>0.096464</td>\n",
       "      <td>0.480935</td>\n",
       "      <td>-0.173749</td>\n",
       "      <td>0.009913</td>\n",
       "      <td>0.549236</td>\n",
       "      <td>0.274789</td>\n",
       "      <td>-0.300783</td>\n",
       "      <td>-0.579433</td>\n",
       "      <td>74.75</td>\n",
       "      <td>0</td>\n",
       "    </tr>\n",
       "    <tr>\n",
       "      <th>1</th>\n",
       "      <td>1</td>\n",
       "      <td>0.563679</td>\n",
       "      <td>0.026628</td>\n",
       "      <td>0.173246</td>\n",
       "      <td>0.015165</td>\n",
       "      <td>-0.513467</td>\n",
       "      <td>-0.908357</td>\n",
       "      <td>-0.009168</td>\n",
       "      <td>-0.595175</td>\n",
       "      <td>0.144597</td>\n",
       "      <td>...</td>\n",
       "      <td>-0.125255</td>\n",
       "      <td>-0.176654</td>\n",
       "      <td>0.291350</td>\n",
       "      <td>0.943260</td>\n",
       "      <td>0.304440</td>\n",
       "      <td>1.744095</td>\n",
       "      <td>-0.494585</td>\n",
       "      <td>-0.023770</td>\n",
       "      <td>1.38</td>\n",
       "      <td>0</td>\n",
       "    </tr>\n",
       "    <tr>\n",
       "      <th>2</th>\n",
       "      <td>2</td>\n",
       "      <td>0.647697</td>\n",
       "      <td>-0.027922</td>\n",
       "      <td>-0.354315</td>\n",
       "      <td>-0.411045</td>\n",
       "      <td>-0.069543</td>\n",
       "      <td>-0.774641</td>\n",
       "      <td>0.015854</td>\n",
       "      <td>-0.825745</td>\n",
       "      <td>-1.055203</td>\n",
       "      <td>...</td>\n",
       "      <td>-0.493220</td>\n",
       "      <td>-0.669725</td>\n",
       "      <td>0.032147</td>\n",
       "      <td>-0.271626</td>\n",
       "      <td>0.774465</td>\n",
       "      <td>-0.709133</td>\n",
       "      <td>0.001158</td>\n",
       "      <td>0.150097</td>\n",
       "      <td>10.95</td>\n",
       "      <td>0</td>\n",
       "    </tr>\n",
       "    <tr>\n",
       "      <th>3</th>\n",
       "      <td>3</td>\n",
       "      <td>-0.420638</td>\n",
       "      <td>-0.311543</td>\n",
       "      <td>1.018248</td>\n",
       "      <td>-0.488097</td>\n",
       "      <td>0.290341</td>\n",
       "      <td>-0.760869</td>\n",
       "      <td>0.210747</td>\n",
       "      <td>-0.507446</td>\n",
       "      <td>-0.584238</td>\n",
       "      <td>...</td>\n",
       "      <td>-0.658538</td>\n",
       "      <td>-0.236783</td>\n",
       "      <td>-0.111631</td>\n",
       "      <td>0.801102</td>\n",
       "      <td>-0.000527</td>\n",
       "      <td>-1.201210</td>\n",
       "      <td>-0.221273</td>\n",
       "      <td>-0.579327</td>\n",
       "      <td>8.04</td>\n",
       "      <td>0</td>\n",
       "    </tr>\n",
       "    <tr>\n",
       "      <th>4</th>\n",
       "      <td>4</td>\n",
       "      <td>-0.529944</td>\n",
       "      <td>0.135654</td>\n",
       "      <td>1.005962</td>\n",
       "      <td>0.097535</td>\n",
       "      <td>-0.014375</td>\n",
       "      <td>1.015533</td>\n",
       "      <td>0.636531</td>\n",
       "      <td>0.621817</td>\n",
       "      <td>-0.299703</td>\n",
       "      <td>...</td>\n",
       "      <td>0.400208</td>\n",
       "      <td>0.010105</td>\n",
       "      <td>0.427144</td>\n",
       "      <td>0.749666</td>\n",
       "      <td>0.713413</td>\n",
       "      <td>-1.229423</td>\n",
       "      <td>0.171666</td>\n",
       "      <td>0.610120</td>\n",
       "      <td>175.00</td>\n",
       "      <td>0</td>\n",
       "    </tr>\n",
       "  </tbody>\n",
       "</table>\n",
       "<p>5 rows × 31 columns</p>\n",
       "</div>"
      ],
      "text/plain": [
       "   Index        V1        V2        V3        V4        V5        V6  \\\n",
       "0      0  0.996044 -0.874539 -1.119741 -0.885963 -0.424291 -1.057981   \n",
       "1      1  0.563679  0.026628  0.173246  0.015165 -0.513467 -0.908357   \n",
       "2      2  0.647697 -0.027922 -0.354315 -0.411045 -0.069543 -0.774641   \n",
       "3      3 -0.420638 -0.311543  1.018248 -0.488097  0.290341 -0.760869   \n",
       "4      4 -0.529944  0.135654  1.005962  0.097535 -0.014375  1.015533   \n",
       "\n",
       "         V7        V8        V9  ...       V21       V22       V23       V24  \\\n",
       "0 -0.102001 -1.264210 -1.547528  ...  0.096464  0.480935 -0.173749  0.009913   \n",
       "1 -0.009168 -0.595175  0.144597  ... -0.125255 -0.176654  0.291350  0.943260   \n",
       "2  0.015854 -0.825745 -1.055203  ... -0.493220 -0.669725  0.032147 -0.271626   \n",
       "3  0.210747 -0.507446 -0.584238  ... -0.658538 -0.236783 -0.111631  0.801102   \n",
       "4  0.636531  0.621817 -0.299703  ...  0.400208  0.010105  0.427144  0.749666   \n",
       "\n",
       "        V25       V26       V27       V28  Amount  Class  \n",
       "0  0.549236  0.274789 -0.300783 -0.579433   74.75      0  \n",
       "1  0.304440  1.744095 -0.494585 -0.023770    1.38      0  \n",
       "2  0.774465 -0.709133  0.001158  0.150097   10.95      0  \n",
       "3 -0.000527 -1.201210 -0.221273 -0.579327    8.04      0  \n",
       "4  0.713413 -1.229423  0.171666  0.610120  175.00      0  \n",
       "\n",
       "[5 rows x 31 columns]"
      ]
     },
     "execution_count": 18,
     "metadata": {},
     "output_type": "execute_result"
    }
   ],
   "source": [
    "train.head()"
   ]
  },
  {
   "cell_type": "code",
   "execution_count": 19,
   "metadata": {},
   "outputs": [],
   "source": [
    "variables_test = test.columns[1:29]"
   ]
  },
  {
   "cell_type": "code",
   "execution_count": 20,
   "metadata": {},
   "outputs": [],
   "source": [
    "test[variables_test]=scaler.fit_transform(test[variables_test].values)"
   ]
  },
  {
   "cell_type": "code",
   "execution_count": 21,
   "metadata": {},
   "outputs": [
    {
     "data": {
      "text/html": [
       "<div>\n",
       "<style scoped>\n",
       "    .dataframe tbody tr th:only-of-type {\n",
       "        vertical-align: middle;\n",
       "    }\n",
       "\n",
       "    .dataframe tbody tr th {\n",
       "        vertical-align: top;\n",
       "    }\n",
       "\n",
       "    .dataframe thead th {\n",
       "        text-align: right;\n",
       "    }\n",
       "</style>\n",
       "<table border=\"1\" class=\"dataframe\">\n",
       "  <thead>\n",
       "    <tr style=\"text-align: right;\">\n",
       "      <th></th>\n",
       "      <th>Index</th>\n",
       "      <th>V1</th>\n",
       "      <th>V2</th>\n",
       "      <th>V3</th>\n",
       "      <th>V4</th>\n",
       "      <th>V5</th>\n",
       "      <th>V6</th>\n",
       "      <th>V7</th>\n",
       "      <th>V8</th>\n",
       "      <th>V9</th>\n",
       "      <th>...</th>\n",
       "      <th>V20</th>\n",
       "      <th>V21</th>\n",
       "      <th>V22</th>\n",
       "      <th>V23</th>\n",
       "      <th>V24</th>\n",
       "      <th>V25</th>\n",
       "      <th>V26</th>\n",
       "      <th>V27</th>\n",
       "      <th>V28</th>\n",
       "      <th>Amount</th>\n",
       "    </tr>\n",
       "  </thead>\n",
       "  <tbody>\n",
       "    <tr>\n",
       "      <th>0</th>\n",
       "      <td>0</td>\n",
       "      <td>0.840604</td>\n",
       "      <td>-0.740769</td>\n",
       "      <td>-0.663122</td>\n",
       "      <td>-0.057116</td>\n",
       "      <td>0.127274</td>\n",
       "      <td>-0.027692</td>\n",
       "      <td>0.228290</td>\n",
       "      <td>-0.425982</td>\n",
       "      <td>0.960480</td>\n",
       "      <td>...</td>\n",
       "      <td>0.560702</td>\n",
       "      <td>-0.358390</td>\n",
       "      <td>-0.581810</td>\n",
       "      <td>-0.184610</td>\n",
       "      <td>-1.318934</td>\n",
       "      <td>-0.134012</td>\n",
       "      <td>0.113482</td>\n",
       "      <td>-0.343789</td>\n",
       "      <td>-0.312047</td>\n",
       "      <td>186.76</td>\n",
       "    </tr>\n",
       "    <tr>\n",
       "      <th>1</th>\n",
       "      <td>1</td>\n",
       "      <td>-0.219291</td>\n",
       "      <td>0.566387</td>\n",
       "      <td>0.490501</td>\n",
       "      <td>1.207059</td>\n",
       "      <td>0.912311</td>\n",
       "      <td>0.266496</td>\n",
       "      <td>0.970070</td>\n",
       "      <td>-0.511493</td>\n",
       "      <td>-0.720174</td>\n",
       "      <td>...</td>\n",
       "      <td>-0.526382</td>\n",
       "      <td>0.835559</td>\n",
       "      <td>0.969443</td>\n",
       "      <td>-0.534585</td>\n",
       "      <td>1.355441</td>\n",
       "      <td>-0.340169</td>\n",
       "      <td>0.276014</td>\n",
       "      <td>-1.464941</td>\n",
       "      <td>-0.183257</td>\n",
       "      <td>21.18</td>\n",
       "    </tr>\n",
       "    <tr>\n",
       "      <th>2</th>\n",
       "      <td>2</td>\n",
       "      <td>0.534188</td>\n",
       "      <td>-0.785168</td>\n",
       "      <td>0.286126</td>\n",
       "      <td>-1.164328</td>\n",
       "      <td>-0.243868</td>\n",
       "      <td>1.468673</td>\n",
       "      <td>-0.729629</td>\n",
       "      <td>0.919537</td>\n",
       "      <td>1.805927</td>\n",
       "      <td>...</td>\n",
       "      <td>-0.481382</td>\n",
       "      <td>-0.028922</td>\n",
       "      <td>0.428759</td>\n",
       "      <td>0.323959</td>\n",
       "      <td>-1.234358</td>\n",
       "      <td>0.286061</td>\n",
       "      <td>-0.977943</td>\n",
       "      <td>0.829214</td>\n",
       "      <td>-0.054653</td>\n",
       "      <td>1.00</td>\n",
       "    </tr>\n",
       "    <tr>\n",
       "      <th>3</th>\n",
       "      <td>3</td>\n",
       "      <td>-1.720704</td>\n",
       "      <td>2.659102</td>\n",
       "      <td>-2.120592</td>\n",
       "      <td>2.047147</td>\n",
       "      <td>-3.105802</td>\n",
       "      <td>-0.791699</td>\n",
       "      <td>-5.424234</td>\n",
       "      <td>4.772653</td>\n",
       "      <td>-2.297264</td>\n",
       "      <td>...</td>\n",
       "      <td>1.719729</td>\n",
       "      <td>3.846851</td>\n",
       "      <td>0.471915</td>\n",
       "      <td>0.165540</td>\n",
       "      <td>-0.021289</td>\n",
       "      <td>-0.336930</td>\n",
       "      <td>-0.033703</td>\n",
       "      <td>2.307719</td>\n",
       "      <td>2.850438</td>\n",
       "      <td>14.46</td>\n",
       "    </tr>\n",
       "    <tr>\n",
       "      <th>4</th>\n",
       "      <td>4</td>\n",
       "      <td>0.596125</td>\n",
       "      <td>-0.070413</td>\n",
       "      <td>0.061159</td>\n",
       "      <td>0.422973</td>\n",
       "      <td>0.218631</td>\n",
       "      <td>0.393930</td>\n",
       "      <td>0.138228</td>\n",
       "      <td>-0.109006</td>\n",
       "      <td>0.156570</td>\n",
       "      <td>...</td>\n",
       "      <td>0.104381</td>\n",
       "      <td>-0.335008</td>\n",
       "      <td>-0.261165</td>\n",
       "      <td>-0.818385</td>\n",
       "      <td>-0.612037</td>\n",
       "      <td>1.160750</td>\n",
       "      <td>-0.320650</td>\n",
       "      <td>0.046288</td>\n",
       "      <td>-0.055064</td>\n",
       "      <td>27.00</td>\n",
       "    </tr>\n",
       "  </tbody>\n",
       "</table>\n",
       "<p>5 rows × 30 columns</p>\n",
       "</div>"
      ],
      "text/plain": [
       "   Index        V1        V2        V3        V4        V5        V6  \\\n",
       "0      0  0.840604 -0.740769 -0.663122 -0.057116  0.127274 -0.027692   \n",
       "1      1 -0.219291  0.566387  0.490501  1.207059  0.912311  0.266496   \n",
       "2      2  0.534188 -0.785168  0.286126 -1.164328 -0.243868  1.468673   \n",
       "3      3 -1.720704  2.659102 -2.120592  2.047147 -3.105802 -0.791699   \n",
       "4      4  0.596125 -0.070413  0.061159  0.422973  0.218631  0.393930   \n",
       "\n",
       "         V7        V8        V9  ...       V20       V21       V22       V23  \\\n",
       "0  0.228290 -0.425982  0.960480  ...  0.560702 -0.358390 -0.581810 -0.184610   \n",
       "1  0.970070 -0.511493 -0.720174  ... -0.526382  0.835559  0.969443 -0.534585   \n",
       "2 -0.729629  0.919537  1.805927  ... -0.481382 -0.028922  0.428759  0.323959   \n",
       "3 -5.424234  4.772653 -2.297264  ...  1.719729  3.846851  0.471915  0.165540   \n",
       "4  0.138228 -0.109006  0.156570  ...  0.104381 -0.335008 -0.261165 -0.818385   \n",
       "\n",
       "        V24       V25       V26       V27       V28  Amount  \n",
       "0 -1.318934 -0.134012  0.113482 -0.343789 -0.312047  186.76  \n",
       "1  1.355441 -0.340169  0.276014 -1.464941 -0.183257   21.18  \n",
       "2 -1.234358  0.286061 -0.977943  0.829214 -0.054653    1.00  \n",
       "3 -0.021289 -0.336930 -0.033703  2.307719  2.850438   14.46  \n",
       "4 -0.612037  1.160750 -0.320650  0.046288 -0.055064   27.00  \n",
       "\n",
       "[5 rows x 30 columns]"
      ]
     },
     "execution_count": 21,
     "metadata": {},
     "output_type": "execute_result"
    }
   ],
   "source": [
    "test.head()"
   ]
  },
  {
   "cell_type": "code",
   "execution_count": 22,
   "metadata": {},
   "outputs": [
    {
     "data": {
      "text/plain": [
       "'Class'"
      ]
     },
     "execution_count": 22,
     "metadata": {},
     "output_type": "execute_result"
    }
   ],
   "source": [
    "train.columns[30]"
   ]
  },
  {
   "cell_type": "code",
   "execution_count": 23,
   "metadata": {},
   "outputs": [],
   "source": [
    "target = train.columns[30]"
   ]
  },
  {
   "cell_type": "code",
   "execution_count": 24,
   "metadata": {},
   "outputs": [],
   "source": [
    "from sklearn.model_selection import train_test_split"
   ]
  },
  {
   "cell_type": "code",
   "execution_count": 25,
   "metadata": {},
   "outputs": [],
   "source": [
    "X = train.drop(\"Class\", axis = 1)"
   ]
  },
  {
   "cell_type": "code",
   "execution_count": 26,
   "metadata": {},
   "outputs": [],
   "source": [
    "Y = train[\"Class\"]"
   ]
  },
  {
   "cell_type": "code",
   "execution_count": 27,
   "metadata": {},
   "outputs": [],
   "source": [
    "x_train,x_test,y_train,y_test = train_test_split(X,Y,test_size = 0.2)"
   ]
  },
  {
   "cell_type": "code",
   "execution_count": 28,
   "metadata": {},
   "outputs": [
    {
     "name": "stdout",
     "output_type": "stream",
     "text": [
      "Before Undersampling, counts of label '1': 344\n",
      "Before Undersampling, counts of label '0': 227220 \n",
      "\n"
     ]
    }
   ],
   "source": [
    "print(\"Before Undersampling, counts of label '1': {}\".format(sum(y_train == 1))) \n",
    "print(\"Before Undersampling, counts of label '0': {} \\n\".format(sum(y_train == 0)))"
   ]
  },
  {
   "cell_type": "code",
   "execution_count": 30,
   "metadata": {},
   "outputs": [],
   "source": [
    "from imblearn.under_sampling import NearMiss \n",
    "nr = NearMiss() \n",
    "x_train_miss, y_train_miss = nr.fit_sample(x_train, y_train.ravel()) "
   ]
  },
  {
   "cell_type": "code",
   "execution_count": 31,
   "metadata": {},
   "outputs": [
    {
     "name": "stdout",
     "output_type": "stream",
     "text": [
      "After Undersampling, counts of label '1': 344\n",
      "After Undersampling, counts of label '0': 344\n"
     ]
    }
   ],
   "source": [
    "print(\"After Undersampling, counts of label '1': {}\".format(sum(y_train_miss == 1))) \n",
    "print(\"After Undersampling, counts of label '0': {}\".format(sum(y_train_miss == 0)))"
   ]
  },
  {
   "cell_type": "code",
   "execution_count": 32,
   "metadata": {},
   "outputs": [
    {
     "data": {
      "text/plain": [
       "GaussianNB()"
      ]
     },
     "execution_count": 32,
     "metadata": {},
     "output_type": "execute_result"
    }
   ],
   "source": [
    "from sklearn.naive_bayes import GaussianNB \n",
    "gnb = GaussianNB() \n",
    "gnb.fit(x_train_miss, y_train_miss)"
   ]
  },
  {
   "cell_type": "code",
   "execution_count": 33,
   "metadata": {},
   "outputs": [],
   "source": [
    "y_pred = gnb.predict(x_test)"
   ]
  },
  {
   "cell_type": "code",
   "execution_count": 34,
   "metadata": {},
   "outputs": [
    {
     "name": "stdout",
     "output_type": "stream",
     "text": [
      "Gaussian Naive Bayes model accuracy(in %): 89.93338137842541\n"
     ]
    }
   ],
   "source": [
    "from sklearn import metrics \n",
    "print(\"Gaussian Naive Bayes model accuracy(in %):\", metrics.accuracy_score(y_test, y_pred)*100)"
   ]
  },
  {
   "cell_type": "code",
   "execution_count": 35,
   "metadata": {},
   "outputs": [],
   "source": [
    "y_pred_test = gnb.predict(test)"
   ]
  },
  {
   "cell_type": "code",
   "execution_count": 36,
   "metadata": {},
   "outputs": [],
   "source": [
    "output = pd.DataFrame({'Class': y_pred_test})\n",
    "output.to_csv('my_submission.csv', index=False)"
   ]
  },
  {
   "cell_type": "code",
   "execution_count": null,
   "metadata": {},
   "outputs": [],
   "source": []
  }
 ],
 "metadata": {
  "kernelspec": {
   "display_name": "Python 3",
   "language": "python",
   "name": "python3"
  },
  "language_info": {
   "codemirror_mode": {
    "name": "ipython",
    "version": 3
   },
   "file_extension": ".py",
   "mimetype": "text/x-python",
   "name": "python",
   "nbconvert_exporter": "python",
   "pygments_lexer": "ipython3",
   "version": "3.7.6"
  }
 },
 "nbformat": 4,
 "nbformat_minor": 4
}
